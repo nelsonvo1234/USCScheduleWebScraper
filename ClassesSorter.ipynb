{
 "cells": [
  {
   "cell_type": "code",
   "execution_count": null,
   "id": "a8aaa5b2",
   "metadata": {},
   "outputs": [
    {
     "name": "stdout",
     "output_type": "stream",
     "text": [
      "['AME-101', 'AME-105', 'AME-201', 'BME-101', 'BME-202', 'CSCI-102', 'CSCI-103', 'CSCI-104', 'CSCI-170', 'EE-105', 'EE-109', 'EE-141', 'EE-155', 'EE-202', 'EE-250', 'EE-354', 'Engr-102', 'ITP-348', 'PHYS-151', 'PHYS-171', 'PHYS-172']\n"
     ]
    }
   ],
   "source": [
    "#little program to format the input text file of classes. Need to be in same format as used in actual USC\n",
    "#alphabetizes and removes duplicates\n",
    "\n",
    "def removeduplicate(data):\n",
    "    countdict = {}\n",
    "    for element in data:\n",
    "        if element in countdict.keys():\n",
    "            countdict[element] += 1\n",
    "        else:\n",
    "            countdict[element] = 1\n",
    "    data.clear()\n",
    "    for key in countdict.keys():\n",
    "        data.append(key)\n",
    "\n",
    "try:\n",
    "    classes = []\n",
    "    with open('Classes.txt', 'r') as file:\n",
    "        content = file.read()\n",
    "        # print(content)\n",
    "        classes = content.splitlines()\n",
    "        classes.sort()\n",
    "        removeduplicate(classes)\n",
    "        print(classes)\n",
    "    with open(\"Classes.txt\", \"w\") as file:\n",
    "        for classCode in classes:\n",
    "            file.write(classCode+\"\\n\")\n",
    "except FileNotFoundError:\n",
    "    print(\"Error: The file 'your_file.txt' was not found.\")\n",
    "except Exception as e:\n",
    "    print(f\"An error occurred: {e}\")"
   ]
  }
 ],
 "metadata": {
  "kernelspec": {
   "display_name": ".venv",
   "language": "python",
   "name": "python3"
  },
  "language_info": {
   "codemirror_mode": {
    "name": "ipython",
    "version": 3
   },
   "file_extension": ".py",
   "mimetype": "text/x-python",
   "name": "python",
   "nbconvert_exporter": "python",
   "pygments_lexer": "ipython3",
   "version": "3.13.5"
  }
 },
 "nbformat": 4,
 "nbformat_minor": 5
}
